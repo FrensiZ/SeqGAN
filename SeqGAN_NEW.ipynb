{
 "cells": [
  {
   "cell_type": "markdown",
   "metadata": {},
   "source": [
    "#### Packages"
   ]
  },
  {
   "cell_type": "code",
   "execution_count": 42,
   "metadata": {},
   "outputs": [],
   "source": [
    "import torch\n",
    "import torch.nn as nn\n",
    "import torch.nn.functional as F\n",
    "import numpy as np\n",
    "import matplotlib.pyplot as plt\n",
    "import pickle"
   ]
  },
  {
   "cell_type": "code",
   "execution_count": null,
   "metadata": {},
   "outputs": [],
   "source": [
    "class TargetLSTM(nn.Module):\n",
    "\n",
    "    def __init__(self, vocab_size, embedding_dim, hidden_dim, sequence_length, start_token, batch_size, device='cpu'):\n",
    "\n",
    "        np.random.seed(66)\n",
    "        torch.manual_seed(66)\n",
    "        \n",
    "        super(TargetLSTM, self).__init__()\n",
    "        \n",
    "        self.vocab_size = vocab_size\n",
    "        self.embedding_dim = embedding_dim\n",
    "        self.hidden_dim = hidden_dim\n",
    "        self.sequence_length = sequence_length\n",
    "        self.start_token = start_token\n",
    "        self.batch_size = batch_size\n",
    "        self.device = device\n",
    "        \n",
    "        # Define layers\n",
    "        self.embeddings = nn.Embedding(vocab_size, embedding_dim)\n",
    "        self.lstm = nn.LSTM(embedding_dim, hidden_dim, batch_first=True)\n",
    "        self.output_layer = nn.Linear(hidden_dim, vocab_size)\n",
    "\n",
    "        for param in self.parameters():\n",
    "            nn.init.normal_(param, mean=0.0, std=0.1)\n",
    "        \n",
    "        # Initialize on device\n",
    "        self.to(device)\n",
    "    \n",
    "    def load_pytorch_dict_params(self, params_path):\n",
    "        \"\"\"\n",
    "        Load parameters from a PyTorch dictionary format\n",
    "        \"\"\"\n",
    "        with open(params_path, 'rb') as f:\n",
    "            params = pickle.load(f)\n",
    "        \n",
    "        with torch.no_grad():\n",
    "            # Load embedding weights\n",
    "            self.embeddings.weight.copy_(params['emb'])\n",
    "            \n",
    "            # Load output layer weights\n",
    "            self.output_layer.weight.copy_(params['out_w'])\n",
    "            self.output_layer.bias.copy_(params['out_b'])\n",
    "            \n",
    "            # Load LSTM weights\n",
    "            lstm_dict = params['lstm']\n",
    "            self.lstm.weight_ih_l0.copy_(lstm_dict['weight_ih_l0'])\n",
    "            self.lstm.weight_hh_l0.copy_(lstm_dict['weight_hh_l0'])\n",
    "            self.lstm.bias_ih_l0.copy_(lstm_dict['bias_ih_l0'])\n",
    "            self.lstm.bias_hh_l0.copy_(lstm_dict['bias_hh_l0'])\n",
    "        \n",
    "        return self\n",
    "        \n",
    "    def forward(self, x, hidden=None):\n",
    "\n",
    "        emb = self.embeddings(x)                    # [batch_size, sequence_length, embedding_dim]\n",
    "        lstm_out, hidden = self.lstm(emb, hidden)   # lstm_out: [batch_size, sequence_length, hidden_dim]\n",
    "        logits = self.output_layer(lstm_out)        # [batch_size, sequence_length, vocab_size]\n",
    "        \n",
    "        return logits, hidden\n",
    "    \n",
    "    def generate(self, num_samples):\n",
    "\n",
    "        with torch.no_grad():\n",
    "            \n",
    "            # Start token for all sequences\n",
    "            x = torch.full((num_samples, 1), self.start_token, dtype=torch.long, device=self.device)\n",
    "            hidden = None  # Let PyTorch initialize the hidden state\n",
    "\n",
    "            generated_sequences = torch.zeros(num_samples, self.sequence_length, dtype=torch.long, device=self.device)\n",
    "\n",
    "            for i in range(self.sequence_length):\n",
    "                # Forward pass\n",
    "                emb = self.embeddings(x[:, -1:])  # Only use the last token\n",
    "                lstm_out, hidden = self.lstm(emb, hidden)\n",
    "                logits = self.output_layer(lstm_out)\n",
    "                \n",
    "                # Sample from distribution\n",
    "                probs = F.softmax(logits.squeeze(1), dim=-1)\n",
    "                next_token = torch.multinomial(probs, 1)\n",
    "                \n",
    "                # Add to sequence\n",
    "                generated_sequences[:, i] = next_token.squeeze()\n",
    "                \n",
    "                # Update input for next step (only need the current token, not the entire history)\n",
    "                x = next_token\n",
    "            \n",
    "            return generated_sequences\n",
    "            \n",
    "    def calculate_nll(self, generated_sequences):\n",
    "\n",
    "        with torch.no_grad():\n",
    "            # Use all tokens except the last one as input\n",
    "            inputs = generated_sequences[:, :-1]\n",
    "            \n",
    "            # Use all tokens except the first one as targets\n",
    "            targets = generated_sequences[:, 1:]\n",
    "            \n",
    "            # Forward pass\n",
    "            logits, _ = self.forward(inputs)\n",
    "            \n",
    "            # Calculate negative log-likelihood\n",
    "            nll = F.cross_entropy(logits.reshape(-1, self.vocab_size), targets.reshape(-1), reduction='mean')\n",
    "            \n",
    "            return nll.item()\n",
    "\n",
    "    def calculate_nll_exact(self, generated_sequences):\n",
    "        \"\"\"\n",
    "        Calculate negative log-likelihood in a way that exactly matches the TensorFlow implementation\n",
    "        \"\"\"\n",
    "        with torch.no_grad():\n",
    "            # Use all tokens except the last one as input\n",
    "            inputs = generated_sequences[:, :-1]\n",
    "            \n",
    "            # Forward pass\n",
    "            logits, _ = self.forward(inputs)\n",
    "            \n",
    "            # Convert logits to probabilities\n",
    "            probs = F.softmax(logits, dim=-1)\n",
    "            \n",
    "            # Use all tokens except the first one as targets\n",
    "            targets = generated_sequences[:, 1:]\n",
    "            \n",
    "            # One-hot encode targets\n",
    "            targets_one_hot = F.one_hot(targets, num_classes=self.vocab_size).float()\n",
    "            \n",
    "            # Calculate negative log-likelihood exactly like in TensorFlow\n",
    "            log_probs = torch.log(torch.clamp(probs, min=1e-20))\n",
    "            nll = -torch.sum(\n",
    "                targets_one_hot.reshape(-1, self.vocab_size) * \n",
    "                log_probs.reshape(-1, self.vocab_size)\n",
    "            ) / (self.sequence_length * self.batch_size)\n",
    "            \n",
    "            return nll.item()\n",
    "\n",
    "    def save_params(self, path):\n",
    "        torch.save(self.state_dict(), path)\n",
    "        \n",
    "    def load_params(self, path):\n",
    "        self.load_state_dict(torch.load(path))\n",
    "        \n",
    "    def save_samples(self, samples, file_path):\n",
    "        with open(file_path, 'w') as f:\n",
    "            for sample in samples.cpu().numpy():\n",
    "                f.write(' '.join([str(int(x)) for x in sample]) + '\\n')\n",
    "    "
   ]
  },
  {
   "cell_type": "code",
   "execution_count": null,
   "metadata": {},
   "outputs": [],
   "source": [
    "class TestLSTM(nn.Module):\n",
    "\n",
    "    def __init__(self, vocab_size, embedding_dim, hidden_dim, sequence_length, start_token, batch_size, device='cpu'):\n",
    "\n",
    "        np.random.seed(66)\n",
    "        torch.manual_seed(66)\n",
    "        \n",
    "        super(TestLSTM, self).__init__()\n",
    "        \n",
    "        self.vocab_size = vocab_size\n",
    "        self.embedding_dim = embedding_dim\n",
    "        self.hidden_dim = hidden_dim\n",
    "        self.sequence_length = sequence_length\n",
    "        self.start_token = start_token\n",
    "        self.batch_size = batch_size\n",
    "        self.device = device\n",
    "        \n",
    "        # Define layers\n",
    "        self.embeddings = nn.Embedding(vocab_size, embedding_dim)\n",
    "        self.lstm = nn.LSTM(embedding_dim, hidden_dim, batch_first=True)\n",
    "        self.output_layer = nn.Linear(hidden_dim, vocab_size)\n",
    "\n",
    "        for param in self.parameters():\n",
    "            nn.init.normal_(param, mean=100.0, std=3.1)\n",
    "        \n",
    "        # Initialize on device\n",
    "        self.to(device)\n",
    "        \n",
    "    def forward(self, x, hidden=None):\n",
    "\n",
    "        emb = self.embeddings(x)                    # [batch_size, sequence_length, embedding_dim]\n",
    "        lstm_out, hidden = self.lstm(emb, hidden)   # lstm_out: [batch_size, sequence_length, hidden_dim]\n",
    "        logits = self.output_layer(lstm_out)        # [batch_size, sequence_length, vocab_size]\n",
    "        \n",
    "        return logits, hidden\n",
    "    \n",
    "    def generate(self, num_samples):\n",
    "\n",
    "        with torch.no_grad():\n",
    "            \n",
    "            # Start token for all sequences\n",
    "            x = torch.full((num_samples, 1), self.start_token, dtype=torch.long, device=self.device)\n",
    "            hidden = None  # Let PyTorch initialize the hidden state\n",
    "\n",
    "            generated_sequences = torch.zeros(num_samples, self.sequence_length, dtype=torch.long, device=self.device)\n",
    "\n",
    "            for i in range(self.sequence_length):\n",
    "                # Forward pass\n",
    "                emb = self.embeddings(x[:, -1:])  # Only use the last token\n",
    "                lstm_out, hidden = self.lstm(emb, hidden)\n",
    "                logits = self.output_layer(lstm_out)\n",
    "                \n",
    "                # Sample from distribution\n",
    "                probs = F.softmax(logits.squeeze(1), dim=-1)\n",
    "                next_token = torch.multinomial(probs, 1)\n",
    "                \n",
    "                # Add to sequence\n",
    "                generated_sequences[:, i] = next_token.squeeze()\n",
    "                \n",
    "                # Update input for next step (only need the current token, not the entire history)\n",
    "                x = next_token\n",
    "            \n",
    "            return generated_sequences\n",
    "            \n",
    "    def calculate_nll(self, generated_sequences):\n",
    "\n",
    "        with torch.no_grad():\n",
    "            # Use all tokens except the last one as input\n",
    "            inputs = generated_sequences[:, :-1]\n",
    "            \n",
    "            # Use all tokens except the first one as targets\n",
    "            targets = generated_sequences[:, 1:]\n",
    "            \n",
    "            # Forward pass\n",
    "            logits, _ = self.forward(inputs)\n",
    "            \n",
    "            # Calculate negative log-likelihood\n",
    "            nll = F.cross_entropy(logits.reshape(-1, self.vocab_size), targets.reshape(-1), reduction='mean')\n",
    "            \n",
    "            return nll.item()\n",
    "\n",
    "    def calculate_nll_exact(self, generated_sequences):\n",
    "        \"\"\"\n",
    "        Calculate negative log-likelihood in a way that exactly matches the TensorFlow implementation\n",
    "        \"\"\"\n",
    "        with torch.no_grad():\n",
    "            # Use all tokens except the last one as input\n",
    "            inputs = generated_sequences[:, :-1]\n",
    "            \n",
    "            # Forward pass\n",
    "            logits, _ = self.forward(inputs)\n",
    "            \n",
    "            # Convert logits to probabilities\n",
    "            probs = F.softmax(logits, dim=-1)\n",
    "            \n",
    "            # Use all tokens except the first one as targets\n",
    "            targets = generated_sequences[:, 1:]\n",
    "            \n",
    "            # One-hot encode targets\n",
    "            targets_one_hot = F.one_hot(targets, num_classes=self.vocab_size).float()\n",
    "            \n",
    "            # Calculate negative log-likelihood exactly like in TensorFlow\n",
    "            log_probs = torch.log(torch.clamp(probs, min=1e-20))\n",
    "            nll = -torch.sum(\n",
    "                targets_one_hot.reshape(-1, self.vocab_size) * \n",
    "                log_probs.reshape(-1, self.vocab_size)\n",
    "            ) / (self.sequence_length * self.batch_size)\n",
    "            \n",
    "            return nll.item()\n",
    "\n",
    "    def save_params(self, path):\n",
    "        torch.save(self.state_dict(), path)\n",
    "        \n",
    "    def load_params(self, path):\n",
    "        self.load_state_dict(torch.load(path))\n",
    "        \n",
    "    def save_samples(self, samples, file_path):\n",
    "        with open(file_path, 'w') as f:\n",
    "            for sample in samples.cpu().numpy():\n",
    "                f.write(' '.join([str(int(x)) for x in sample]) + '\\n')\n",
    "    "
   ]
  },
  {
   "cell_type": "code",
   "execution_count": 13,
   "metadata": {},
   "outputs": [],
   "source": [
    "# Hyperparameters (matching the original implementation)\n",
    "vocab_size = 5000\n",
    "embedding_dim = 32\n",
    "hidden_dim = 32\n",
    "sequence_length = 20\n",
    "start_token = 0\n",
    "batch_size = 64\n",
    "device = torch.device('cuda' if torch.cuda.is_available() else 'cpu')\n",
    "\n",
    "oracle = TargetLSTM(\n",
    "    vocab_size=vocab_size,\n",
    "    embedding_dim=embedding_dim,\n",
    "    hidden_dim=hidden_dim,\n",
    "    sequence_length=sequence_length,\n",
    "    start_token=start_token,\n",
    "    batch_size=batch_size,\n",
    "    device=device\n",
    ")\n",
    "\n",
    "test_case = TestLSTM(\n",
    "    vocab_size=vocab_size,\n",
    "    embedding_dim=embedding_dim,\n",
    "    hidden_dim=hidden_dim,\n",
    "    sequence_length=sequence_length,\n",
    "    start_token=start_token,\n",
    "    batch_size=batch_size,\n",
    "    device=device\n",
    ")"
   ]
  },
  {
   "cell_type": "code",
   "execution_count": 26,
   "metadata": {},
   "outputs": [],
   "source": [
    "num_samples = 1000\n",
    "oracle_sequences = oracle.generate(num_samples)\n",
    "test_sequences = test_case.generate(num_samples)\n"
   ]
  },
  {
   "cell_type": "code",
   "execution_count": 27,
   "metadata": {},
   "outputs": [
    {
     "data": {
      "image/png": "[encoded data removed]",
      "text/plain": [
       "<Figure size 640x480 with 1 Axes>"
      ]
     },
     "metadata": {},
     "output_type": "display_data"
    }
   ],
   "source": [
    "plt.hist(oracle_sequences.flatten(), density=False)\n",
    "plt.hist(test_sequences.flatten(), density=False)\n",
    "plt.show()"
   ]
  },
  {
   "cell_type": "code",
   "execution_count": 30,
   "metadata": {},
   "outputs": [
    {
     "name": "stdout",
     "output_type": "stream",
     "text": [
      "\n",
      "NLL of oracle-generated sequences: 8.511882781982422\n",
      "\n",
      "NLL of oracle-test sequences: 8.497983932495117\n"
     ]
    }
   ],
   "source": [
    "oracle_nll = oracle.calculate_nll(oracle_sequences)\n",
    "print(f\"\\nNLL of oracle-generated sequences: {oracle_nll}\")\n",
    "\n",
    "oracle_nll = oracle.calculate_nll(test_sequences)\n",
    "print(f\"\\nNLL of oracle-test sequences: {oracle_nll}\")"
   ]
  },
  {
   "cell_type": "code",
   "execution_count": 31,
   "metadata": {},
   "outputs": [
    {
     "name": "stdout",
     "output_type": "stream",
     "text": [
      "\n",
      "NLL of oracle-test sequences: 0.024663729593157768\n",
      "\n",
      "NLL of oracle-generated sequences: 63.696434020996094\n"
     ]
    }
   ],
   "source": [
    "oracle_nll = test_case.calculate_nll(test_sequences)\n",
    "print(f\"\\nNLL of oracle-test sequences: {oracle_nll}\")\n",
    "\n",
    "oracle_nll = test_case.calculate_nll(oracle_sequences)\n",
    "print(f\"\\nNLL of oracle-generated sequences: {oracle_nll}\")"
   ]
  },
  {
   "cell_type": "code",
   "execution_count": null,
   "metadata": {},
   "outputs": [
    {
     "name": "stdout",
     "output_type": "stream",
     "text": [
      "Generated 1000 sequences of length 20\n",
      "Sequences shape: torch.Size([1000, 20])\n"
     ]
    }
   ],
   "source": [
    "# Generate some sequences using the Oracle\n",
    "\n",
    "\n",
    "print(f\"Generated {num_samples} sequences of length {sequence_length}\")\n",
    "print(f\"Sequences shape: {oracle_sequences.shape}\")"
   ]
  },
  {
   "cell_type": "code",
   "execution_count": 6,
   "metadata": {},
   "outputs": [
    {
     "name": "stdout",
     "output_type": "stream",
     "text": [
      "\n",
      "NLL of oracle-generated sequences: 8.512005805969238\n"
     ]
    }
   ],
   "source": [
    "oracle_nll = oracle.calculate_nll(oracle_sequences)\n",
    "print(f\"\\nNLL of oracle-generated sequences: {oracle_nll}\")"
   ]
  },
  {
   "cell_type": "code",
   "execution_count": null,
   "metadata": {},
   "outputs": [
    {
     "name": "stdout",
     "output_type": "stream",
     "text": [
      "NLL of random sequences: 63.603736877441406\n",
      "Difference: 55.09173107147217\n"
     ]
    }
   ],
   "source": [
    "random_sequences = test_case.generate(num_samples)\n",
    "random_nll = test_case.calculate_nll(oracle_sequences)\n",
    "#print(f\"NLL of random sequences: {random_nll}\")\n",
    "#print(f\"Difference: {random_nll - oracle_nll}\")"
   ]
  },
  {
   "cell_type": "code",
   "execution_count": 10,
   "metadata": {},
   "outputs": [
    {
     "data": {
      "text/plain": [
       "tensor([[1601, 1601, 1601, 1601, 1601, 1601, 1601, 1601, 1601, 1601, 1601, 1601,\n",
       "         1601, 1601, 1601, 1601, 1601, 1601, 1601, 1601],\n",
       "        [1601, 1601, 1601, 1601, 1601, 1601, 1601, 1601, 1601, 1601, 1601, 1601,\n",
       "         1601, 1601, 1601, 1601, 1601, 1601, 1601, 1601],\n",
       "        [1601, 1601, 1601, 1601, 1601, 1601, 1601, 1601, 1601, 1601, 1601, 1601,\n",
       "         1601, 1601, 1601, 1601, 1601, 1601, 1601, 1601],\n",
       "        [1601, 1601, 1601, 1601, 1601, 1601, 1601, 1601, 1601, 1601, 1601, 1601,\n",
       "         1601, 1601, 1601, 1601, 1601, 1601, 1601, 1601],\n",
       "        [1601, 1601, 1601, 1601, 1601, 1601, 1601, 1601, 1601, 1601, 1601, 1601,\n",
       "         1601, 1601, 1601, 1601, 1601, 1601, 1601, 1601]])"
      ]
     },
     "execution_count": 10,
     "metadata": {},
     "output_type": "execute_result"
    }
   ],
   "source": [
    "random_sequences[0:5]"
   ]
  },
  {
   "cell_type": "code",
   "execution_count": null,
   "metadata": {},
   "outputs": [],
   "source": [
    "import pickle\n",
    "import numpy as np\n",
    "import os\n",
    "\n",
    "def analyze_tensorflow_dict_params(pickle_path):\n",
    "    \"\"\"\n",
    "    Load and analyze the TensorFlow parameters from a pickle file when stored as a dictionary.\n",
    "    \n",
    "    Args:\n",
    "        pickle_path: Path to the pickle file containing TensorFlow parameters\n",
    "        \n",
    "    Returns:\n",
    "        A detailed analysis of the parameters\n",
    "    \"\"\"\n",
    "    try:\n",
    "        # For Python 3 compatibility\n",
    "        with open(pickle_path, 'rb') as f:\n",
    "            try:\n",
    "                params = pickle.load(f)\n",
    "            except UnicodeDecodeError:\n",
    "                # If fails, try with encoding specification (for Python 3)\n",
    "                f.seek(0)\n",
    "                params = pickle.load(f, encoding='latin1')\n",
    "    except Exception as e:\n",
    "        return f\"Error loading pickle file: {str(e)}\"\n",
    "    \n",
    "    if not isinstance(params, dict):\n",
    "        return f\"Unexpected format: params is not a dict, but {type(params)}\"\n",
    "    \n",
    "    analysis = []\n",
    "    analysis.append(f\"Found {len(params)} parameter entries in dictionary\")\n",
    "    \n",
    "    # Print all keys\n",
    "    analysis.append(\"\\nDictionary keys:\")\n",
    "    for key in params.keys():\n",
    "        analysis.append(f\"- {key}\")\n",
    "    \n",
    "    # Detailed analysis of each parameter\n",
    "    analysis.append(\"\\nDetailed parameter analysis:\")\n",
    "    for key, value in params.items():\n",
    "        if isinstance(value, np.ndarray):\n",
    "            analysis.append(f\"{key}: Shape {value.shape}, dtype {value.dtype}, min {value.min():.6f}, max {value.max():.6f}, mean {value.mean():.6f}\")\n",
    "        else:\n",
    "            analysis.append(f\"{key}: Not a numpy array, but {type(value)}\")\n",
    "    \n",
    "    return \"\\n\".join(analysis)\n",
    "\n",
    "# Usage example:\n",
    "# analysis = analyze_tensorflow_dict_params('save/target_params.pkl')\n",
    "# print(analysis)"
   ]
  },
  {
   "cell_type": "code",
   "execution_count": 36,
   "metadata": {},
   "outputs": [
    {
     "name": "stdout",
     "output_type": "stream",
     "text": [
      "Found 4 parameter entries in dictionary\n",
      "\n",
      "Dictionary keys:\n",
      "- emb\n",
      "- lstm\n",
      "- out_w\n",
      "- out_b\n",
      "\n",
      "Detailed parameter analysis:\n",
      "emb: Not a numpy array, but <class 'torch.Tensor'>\n",
      "lstm: Not a numpy array, but <class 'dict'>\n",
      "out_w: Not a numpy array, but <class 'torch.Tensor'>\n",
      "out_b: Not a numpy array, but <class 'torch.Tensor'>\n"
     ]
    }
   ],
   "source": [
    "#Usage example:\n",
    "analysis = analyze_tensorflow_dict_params('save/target_params.pkl')\n",
    "print(analysis)"
   ]
  },
  {
   "cell_type": "code",
   "execution_count": 37,
   "metadata": {},
   "outputs": [
    {
     "name": "stdout",
     "output_type": "stream",
     "text": [
      "Unexpected format: params is not a dict, but <class 'list'>\n"
     ]
    }
   ],
   "source": [
    "#Usage example:\n",
    "analysis = analyze_tensorflow_dict_params('save/target_params_py3.pkl')\n",
    "print(analysis)"
   ]
  },
  {
   "cell_type": "code",
   "execution_count": 40,
   "metadata": {},
   "outputs": [
    {
     "data": {
      "text/plain": [
       "'LSTM dictionary contents:\\nweight_ih_l0: Shape torch.Size([128, 32]), dtype torch.float32, min -0.176717, max 0.176691, mean -0.003182\\nweight_hh_l0: Shape torch.Size([128, 32]), dtype torch.float32, min -0.176714, max 0.176738, mean 0.000642\\nbias_ih_l0: Shape torch.Size([128]), dtype torch.float32, min -0.167118, max 0.173759, mean 0.007541\\nbias_hh_l0: Shape torch.Size([128]), dtype torch.float32, min -0.176697, max 0.173152, mean -0.003580'"
      ]
     },
     "execution_count": 40,
     "metadata": {},
     "output_type": "execute_result"
    }
   ],
   "source": [
    "def analyze_lstm_dict(pickle_path):\n",
    "    \"\"\"Analyze the LSTM dictionary in the params\"\"\"\n",
    "    with open(pickle_path, 'rb') as f:\n",
    "        params = pickle.load(f)\n",
    "    \n",
    "    lstm_dict = params['lstm']\n",
    "    analysis = [\"LSTM dictionary contents:\"]\n",
    "    \n",
    "    for key, value in lstm_dict.items():\n",
    "        if isinstance(value, torch.Tensor):\n",
    "            analysis.append(f\"{key}: Shape {value.shape}, dtype {value.dtype}, min {value.min().item():.6f}, max {value.max().item():.6f}, mean {value.mean().item():.6f}\")\n",
    "        else:\n",
    "            analysis.append(f\"{key}: Not a tensor, but {type(value)}\")\n",
    "    \n",
    "    return \"\\n\".join(analysis)\n",
    "\n",
    "analyze_lstm_dict('save/target_params.pkl')"
   ]
  },
  {
   "cell_type": "code",
   "execution_count": 41,
   "metadata": {},
   "outputs": [
    {
     "data": {
      "text/plain": [
       "'Found 15 parameter arrays in list\\nParam 0: Shape (5000, 32), dtype float32, min -4.714428, max 4.362963, mean 0.004206\\nParam 1: Shape (32, 32), dtype float32, min -2.987998, max 3.181021, mean -0.013970\\nParam 2: Shape (32, 32), dtype float32, min -3.022867, max 3.097541, mean 0.039178\\nParam 3: Shape (32,), dtype float32, min -1.939656, max 1.762500, mean 0.152899\\nParam 4: Shape (32, 32), dtype float32, min -3.078522, max 3.077451, mean 0.002182\\nParam 5: Shape (32, 32), dtype float32, min -3.510646, max 2.722268, mean 0.000065\\nParam 6: Shape (32,), dtype float32, min -1.987712, max 1.900762, mean -0.122108\\nParam 7: Shape (32, 32), dtype float32, min -2.970855, max 3.361905, mean 0.014724\\nParam 8: Shape (32, 32), dtype float32, min -3.284508, max 3.296018, mean 0.037364\\nParam 9: Shape (32,), dtype float32, min -1.274701, max 2.060413, mean 0.463960\\nParam 10: Shape (32, 32), dtype float32, min -3.346318, max 2.961451, mean -0.034858\\nParam 11: Shape (32, 32), dtype float32, min -3.358287, max 3.043322, mean 0.032647\\nParam 12: Shape (32,), dtype float32, min -1.789718, max 1.853817, mean -0.108312\\nParam 13: Shape (32, 5000), dtype float32, min -4.433117, max 4.956769, mean -0.000446\\nParam 14: Shape (5000,), dtype float32, min -3.570815, max 3.452207, mean -0.005784'"
      ]
     },
     "execution_count": 41,
     "metadata": {},
     "output_type": "execute_result"
    }
   ],
   "source": [
    "def analyze_tensorflow_list_params(pickle_path):\n",
    "    \"\"\"Analyze parameters stored as a list\"\"\"\n",
    "    try:\n",
    "        with open(pickle_path, 'rb') as f:\n",
    "            try:\n",
    "                params = pickle.load(f)\n",
    "            except UnicodeDecodeError:\n",
    "                f.seek(0)\n",
    "                params = pickle.load(f, encoding='latin1')\n",
    "    except Exception as e:\n",
    "        return f\"Error loading pickle file: {str(e)}\"\n",
    "    \n",
    "    analysis = [f\"Found {len(params)} parameter arrays in list\"]\n",
    "    \n",
    "    for i, param in enumerate(params):\n",
    "        if isinstance(param, np.ndarray):\n",
    "            analysis.append(f\"Param {i}: Shape {param.shape}, dtype {param.dtype}, min {param.min():.6f}, max {param.max():.6f}, mean {param.mean():.6f}\")\n",
    "        elif isinstance(param, torch.Tensor):\n",
    "            analysis.append(f\"Param {i}: Tensor Shape {param.shape}, dtype {param.dtype}, min {param.min().item():.6f}, max {param.max().item():.6f}, mean {param.mean().item():.6f}\")\n",
    "        else:\n",
    "            analysis.append(f\"Param {i}: Not a numpy array or tensor, but {type(param)}\")\n",
    "    \n",
    "    return \"\\n\".join(analysis)\n",
    "\n",
    "analyze_tensorflow_list_params('save/target_params_py3.pkl')"
   ]
  },
  {
   "cell_type": "code",
   "execution_count": null,
   "metadata": {},
   "outputs": [],
   "source": []
  }
 ],
 "metadata": {
  "kernelspec": {
   "display_name": "Python 3",
   "language": "python",
   "name": "python3"
  },
  "language_info": {
   "codemirror_mode": {
    "name": "ipython",
    "version": 3
   },
   "file_extension": ".py",
   "mimetype": "text/x-python",
   "name": "python",
   "nbconvert_exporter": "python",
   "pygments_lexer": "ipython3",
   "version": "3.11.9"
  }
 },
 "nbformat": 4,
 "nbformat_minor": 2
}
